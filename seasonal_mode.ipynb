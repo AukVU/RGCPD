{
 "cells": [
  {
   "cell_type": "markdown",
   "metadata": {},
   "source": [
    "# Find Teleconnections (precursor regions) via correlation maps "
   ]
  },
  {
   "cell_type": "code",
   "execution_count": 1,
   "metadata": {},
   "outputs": [
    {
     "name": "stdout",
     "output_type": "stream",
     "text": [
      "C:\\Users\\Auk\\Documents\\GitHub\\RGCPD\n",
      "Could not import packages for CMIknn and GPDC estimation\n",
      "Could not import packages for CMIknn and GPDC estimation\n"
     ]
    }
   ],
   "source": [
    "import os, inspect\n",
    "main_dir = os.path.dirname(os.path.abspath(inspect.getfile(inspect.currentframe()))) # script directory\n",
    "print(main_dir)\n",
    "%load_ext autoreload\n",
    "%autoreload 2\n",
    "from RGCPD import RGCPD\n",
    "from RGCPD import BivariateMI\n",
    "import class_BivariateMI, functions_pp\n",
    "from IPython.display import Image\n",
    "import numpy as np"
   ]
  },
  {
   "cell_type": "code",
   "execution_count": 2,
   "metadata": {},
   "outputs": [],
   "source": [
    "# define input: \n",
    "path_test = os.path.join(main_dir, 'data') # path of test data\n",
    "# format list_of_name_path = [('TVname', 'TVpath'), ('prec_name', 'prec_path')]\n",
    "list_of_name_path = [(3, os.path.join(path_test, 'eps90_dendo_ae970.nc')),\n",
    "                    ('sst', os.path.join(path_test,'sst_1950-2020_1_12_monthly_1.0deg.nc'))]"
   ]
  },
  {
   "cell_type": "markdown",
   "metadata": {},
   "source": [
    "# Time-handling seasonal mode (DJF)"
   ]
  },
  {
   "cell_type": "code",
   "execution_count": 3,
   "metadata": {},
   "outputs": [
    {
     "ename": "KeyError",
     "evalue": "3",
     "output_type": "error",
     "traceback": [
      "\u001b[1;31m---------------------------------------------------------------------------\u001b[0m",
      "\u001b[1;31mKeyError\u001b[0m                                  Traceback (most recent call last)",
      "\u001b[1;32mC:\\ProgramData\\Anaconda3\\lib\\site-packages\\pandas\\core\\indexes\\base.py\u001b[0m in \u001b[0;36mget_loc\u001b[1;34m(self, key, method, tolerance)\u001b[0m\n\u001b[0;32m   2894\u001b[0m             \u001b[1;32mtry\u001b[0m\u001b[1;33m:\u001b[0m\u001b[1;33m\u001b[0m\u001b[1;33m\u001b[0m\u001b[0m\n\u001b[1;32m-> 2895\u001b[1;33m                 \u001b[1;32mreturn\u001b[0m \u001b[0mself\u001b[0m\u001b[1;33m.\u001b[0m\u001b[0m_engine\u001b[0m\u001b[1;33m.\u001b[0m\u001b[0mget_loc\u001b[0m\u001b[1;33m(\u001b[0m\u001b[0mcasted_key\u001b[0m\u001b[1;33m)\u001b[0m\u001b[1;33m\u001b[0m\u001b[1;33m\u001b[0m\u001b[0m\n\u001b[0m\u001b[0;32m   2896\u001b[0m             \u001b[1;32mexcept\u001b[0m \u001b[0mKeyError\u001b[0m \u001b[1;32mas\u001b[0m \u001b[0merr\u001b[0m\u001b[1;33m:\u001b[0m\u001b[1;33m\u001b[0m\u001b[1;33m\u001b[0m\u001b[0m\n",
      "\u001b[1;32mpandas\\_libs\\index.pyx\u001b[0m in \u001b[0;36mpandas._libs.index.IndexEngine.get_loc\u001b[1;34m()\u001b[0m\n",
      "\u001b[1;32mpandas\\_libs\\index.pyx\u001b[0m in \u001b[0;36mpandas._libs.index.IndexEngine.get_loc\u001b[1;34m()\u001b[0m\n",
      "\u001b[1;32mpandas\\_libs\\hashtable_class_helper.pxi\u001b[0m in \u001b[0;36mpandas._libs.hashtable.Int64HashTable.get_item\u001b[1;34m()\u001b[0m\n",
      "\u001b[1;32mpandas\\_libs\\hashtable_class_helper.pxi\u001b[0m in \u001b[0;36mpandas._libs.hashtable.Int64HashTable.get_item\u001b[1;34m()\u001b[0m\n",
      "\u001b[1;31mKeyError\u001b[0m: 3",
      "\nThe above exception was the direct cause of the following exception:\n",
      "\u001b[1;31mKeyError\u001b[0m                                  Traceback (most recent call last)",
      "\u001b[1;32m<ipython-input-3-41d70a206c3d>\u001b[0m in \u001b[0;36m<module>\u001b[1;34m\u001b[0m\n\u001b[0;32m     11\u001b[0m            path_outmain=os.path.join(main_dir,'data'))\n\u001b[0;32m     12\u001b[0m \u001b[1;33m\u001b[0m\u001b[0m\n\u001b[1;32m---> 13\u001b[1;33m \u001b[0mrg\u001b[0m\u001b[1;33m.\u001b[0m\u001b[0mpp_TV\u001b[0m\u001b[1;33m(\u001b[0m\u001b[0mTVdates_aggr\u001b[0m\u001b[1;33m=\u001b[0m\u001b[1;32mTrue\u001b[0m\u001b[1;33m)\u001b[0m \u001b[1;31m# <- start_end_TVdate defineds aggregated over period\u001b[0m\u001b[1;33m\u001b[0m\u001b[1;33m\u001b[0m\u001b[0m\n\u001b[0m",
      "\u001b[1;32m~\\Documents\\GitHub\\RGCPD\\RGCPD\\class_RGCPD.py\u001b[0m in \u001b[0;36mpp_TV\u001b[1;34m(self, name_ds, detrend, anomaly, kwrgs_core_pp_time, ext_annual_to_mon, TVdates_aggr)\u001b[0m\n\u001b[0;32m    284\u001b[0m         \u001b[0mself\u001b[0m\u001b[1;33m.\u001b[0m\u001b[0mRV_detrend\u001b[0m \u001b[1;33m=\u001b[0m \u001b[0mdetrend\u001b[0m\u001b[1;33m\u001b[0m\u001b[1;33m\u001b[0m\u001b[0m\n\u001b[0;32m    285\u001b[0m         \u001b[0mf\u001b[0m \u001b[1;33m=\u001b[0m \u001b[0mfunctions_pp\u001b[0m\u001b[1;33m\u001b[0m\u001b[1;33m\u001b[0m\u001b[0m\n\u001b[1;32m--> 286\u001b[1;33m         self.fulltso, self.hash = f.load_TV(self.list_of_name_path,\n\u001b[0m\u001b[0;32m    287\u001b[0m                                             name_ds=self.name_TVds)\n\u001b[0;32m    288\u001b[0m         \u001b[1;32mfrom\u001b[0m \u001b[0mcore_pp\u001b[0m \u001b[1;32mimport\u001b[0m \u001b[0mxr_core_pp_time\u001b[0m\u001b[1;33m\u001b[0m\u001b[1;33m\u001b[0m\u001b[0m\n",
      "\u001b[1;32m~\\Documents\\GitHub\\RGCPD\\RGCPD\\functions_pp.py\u001b[0m in \u001b[0;36mload_TV\u001b[1;34m(list_of_name_path, name_ds)\u001b[0m\n\u001b[0;32m     97\u001b[0m         \u001b[0mds\u001b[0m \u001b[1;33m=\u001b[0m \u001b[0mcore_pp\u001b[0m\u001b[1;33m.\u001b[0m\u001b[0mimport_ds_lazy\u001b[0m\u001b[1;33m(\u001b[0m\u001b[0mfilename\u001b[0m\u001b[1;33m)\u001b[0m\u001b[1;33m\u001b[0m\u001b[1;33m\u001b[0m\u001b[0m\n\u001b[0;32m     98\u001b[0m         \u001b[1;32mif\u001b[0m \u001b[0mlen\u001b[0m\u001b[1;33m(\u001b[0m\u001b[0mds\u001b[0m\u001b[1;33m.\u001b[0m\u001b[0mdims\u001b[0m\u001b[1;33m)\u001b[0m \u001b[1;33m>\u001b[0m \u001b[1;36m1\u001b[0m\u001b[1;33m:\u001b[0m\u001b[1;33m\u001b[0m\u001b[1;33m\u001b[0m\u001b[0m\n\u001b[1;32m---> 99\u001b[1;33m             \u001b[0mfulltso\u001b[0m \u001b[1;33m=\u001b[0m \u001b[0mds\u001b[0m\u001b[1;33m[\u001b[0m\u001b[0mname_ds\u001b[0m\u001b[1;33m]\u001b[0m\u001b[1;33m.\u001b[0m\u001b[0msel\u001b[0m\u001b[1;33m(\u001b[0m\u001b[0mcluster\u001b[0m\u001b[1;33m=\u001b[0m\u001b[0mname\u001b[0m\u001b[1;33m)\u001b[0m\u001b[1;33m\u001b[0m\u001b[1;33m\u001b[0m\u001b[0m\n\u001b[0m\u001b[0;32m    100\u001b[0m         \u001b[1;32melse\u001b[0m\u001b[1;33m:\u001b[0m\u001b[1;33m\u001b[0m\u001b[1;33m\u001b[0m\u001b[0m\n\u001b[0;32m    101\u001b[0m             \u001b[1;32mif\u001b[0m \u001b[0mtype\u001b[0m\u001b[1;33m(\u001b[0m\u001b[0mds\u001b[0m\u001b[1;33m)\u001b[0m \u001b[1;32mis\u001b[0m \u001b[0mxr\u001b[0m\u001b[1;33m.\u001b[0m\u001b[0mDataset\u001b[0m\u001b[1;33m:\u001b[0m\u001b[1;33m\u001b[0m\u001b[1;33m\u001b[0m\u001b[0m\n",
      "\u001b[1;32mC:\\ProgramData\\Anaconda3\\lib\\site-packages\\xarray\\core\\dataarray.py\u001b[0m in \u001b[0;36msel\u001b[1;34m(self, indexers, method, tolerance, drop, **indexers_kwargs)\u001b[0m\n\u001b[0;32m   1252\u001b[0m         \u001b[0mDimensions\u001b[0m \u001b[0mwithout\u001b[0m \u001b[0mcoordinates\u001b[0m\u001b[1;33m:\u001b[0m \u001b[0mpoints\u001b[0m\u001b[1;33m\u001b[0m\u001b[1;33m\u001b[0m\u001b[0m\n\u001b[0;32m   1253\u001b[0m         \"\"\"\n\u001b[1;32m-> 1254\u001b[1;33m         ds = self._to_temp_dataset().sel(\n\u001b[0m\u001b[0;32m   1255\u001b[0m             \u001b[0mindexers\u001b[0m\u001b[1;33m=\u001b[0m\u001b[0mindexers\u001b[0m\u001b[1;33m,\u001b[0m\u001b[1;33m\u001b[0m\u001b[1;33m\u001b[0m\u001b[0m\n\u001b[0;32m   1256\u001b[0m             \u001b[0mdrop\u001b[0m\u001b[1;33m=\u001b[0m\u001b[0mdrop\u001b[0m\u001b[1;33m,\u001b[0m\u001b[1;33m\u001b[0m\u001b[1;33m\u001b[0m\u001b[0m\n",
      "\u001b[1;32mC:\\ProgramData\\Anaconda3\\lib\\site-packages\\xarray\\core\\dataset.py\u001b[0m in \u001b[0;36msel\u001b[1;34m(self, indexers, method, tolerance, drop, **indexers_kwargs)\u001b[0m\n\u001b[0;32m   2228\u001b[0m         \"\"\"\n\u001b[0;32m   2229\u001b[0m         \u001b[0mindexers\u001b[0m \u001b[1;33m=\u001b[0m \u001b[0meither_dict_or_kwargs\u001b[0m\u001b[1;33m(\u001b[0m\u001b[0mindexers\u001b[0m\u001b[1;33m,\u001b[0m \u001b[0mindexers_kwargs\u001b[0m\u001b[1;33m,\u001b[0m \u001b[1;34m\"sel\"\u001b[0m\u001b[1;33m)\u001b[0m\u001b[1;33m\u001b[0m\u001b[1;33m\u001b[0m\u001b[0m\n\u001b[1;32m-> 2230\u001b[1;33m         pos_indexers, new_indexes = remap_label_indexers(\n\u001b[0m\u001b[0;32m   2231\u001b[0m             \u001b[0mself\u001b[0m\u001b[1;33m,\u001b[0m \u001b[0mindexers\u001b[0m\u001b[1;33m=\u001b[0m\u001b[0mindexers\u001b[0m\u001b[1;33m,\u001b[0m \u001b[0mmethod\u001b[0m\u001b[1;33m=\u001b[0m\u001b[0mmethod\u001b[0m\u001b[1;33m,\u001b[0m \u001b[0mtolerance\u001b[0m\u001b[1;33m=\u001b[0m\u001b[0mtolerance\u001b[0m\u001b[1;33m\u001b[0m\u001b[1;33m\u001b[0m\u001b[0m\n\u001b[0;32m   2232\u001b[0m         )\n",
      "\u001b[1;32mC:\\ProgramData\\Anaconda3\\lib\\site-packages\\xarray\\core\\coordinates.py\u001b[0m in \u001b[0;36mremap_label_indexers\u001b[1;34m(obj, indexers, method, tolerance, **indexers_kwargs)\u001b[0m\n\u001b[0;32m    414\u001b[0m     }\n\u001b[0;32m    415\u001b[0m \u001b[1;33m\u001b[0m\u001b[0m\n\u001b[1;32m--> 416\u001b[1;33m     pos_indexers, new_indexes = indexing.remap_label_indexers(\n\u001b[0m\u001b[0;32m    417\u001b[0m         \u001b[0mobj\u001b[0m\u001b[1;33m,\u001b[0m \u001b[0mv_indexers\u001b[0m\u001b[1;33m,\u001b[0m \u001b[0mmethod\u001b[0m\u001b[1;33m=\u001b[0m\u001b[0mmethod\u001b[0m\u001b[1;33m,\u001b[0m \u001b[0mtolerance\u001b[0m\u001b[1;33m=\u001b[0m\u001b[0mtolerance\u001b[0m\u001b[1;33m\u001b[0m\u001b[1;33m\u001b[0m\u001b[0m\n\u001b[0;32m    418\u001b[0m     )\n",
      "\u001b[1;32mC:\\ProgramData\\Anaconda3\\lib\\site-packages\\xarray\\core\\indexing.py\u001b[0m in \u001b[0;36mremap_label_indexers\u001b[1;34m(data_obj, indexers, method, tolerance)\u001b[0m\n\u001b[0;32m    268\u001b[0m             \u001b[0mcoords_dtype\u001b[0m \u001b[1;33m=\u001b[0m \u001b[0mdata_obj\u001b[0m\u001b[1;33m.\u001b[0m\u001b[0mcoords\u001b[0m\u001b[1;33m[\u001b[0m\u001b[0mdim\u001b[0m\u001b[1;33m]\u001b[0m\u001b[1;33m.\u001b[0m\u001b[0mdtype\u001b[0m\u001b[1;33m\u001b[0m\u001b[1;33m\u001b[0m\u001b[0m\n\u001b[0;32m    269\u001b[0m             \u001b[0mlabel\u001b[0m \u001b[1;33m=\u001b[0m \u001b[0mmaybe_cast_to_coords_dtype\u001b[0m\u001b[1;33m(\u001b[0m\u001b[0mlabel\u001b[0m\u001b[1;33m,\u001b[0m \u001b[0mcoords_dtype\u001b[0m\u001b[1;33m)\u001b[0m\u001b[1;33m\u001b[0m\u001b[1;33m\u001b[0m\u001b[0m\n\u001b[1;32m--> 270\u001b[1;33m             \u001b[0midxr\u001b[0m\u001b[1;33m,\u001b[0m \u001b[0mnew_idx\u001b[0m \u001b[1;33m=\u001b[0m \u001b[0mconvert_label_indexer\u001b[0m\u001b[1;33m(\u001b[0m\u001b[0mindex\u001b[0m\u001b[1;33m,\u001b[0m \u001b[0mlabel\u001b[0m\u001b[1;33m,\u001b[0m \u001b[0mdim\u001b[0m\u001b[1;33m,\u001b[0m \u001b[0mmethod\u001b[0m\u001b[1;33m,\u001b[0m \u001b[0mtolerance\u001b[0m\u001b[1;33m)\u001b[0m\u001b[1;33m\u001b[0m\u001b[1;33m\u001b[0m\u001b[0m\n\u001b[0m\u001b[0;32m    271\u001b[0m             \u001b[0mpos_indexers\u001b[0m\u001b[1;33m[\u001b[0m\u001b[0mdim\u001b[0m\u001b[1;33m]\u001b[0m \u001b[1;33m=\u001b[0m \u001b[0midxr\u001b[0m\u001b[1;33m\u001b[0m\u001b[1;33m\u001b[0m\u001b[0m\n\u001b[0;32m    272\u001b[0m             \u001b[1;32mif\u001b[0m \u001b[0mnew_idx\u001b[0m \u001b[1;32mis\u001b[0m \u001b[1;32mnot\u001b[0m \u001b[1;32mNone\u001b[0m\u001b[1;33m:\u001b[0m\u001b[1;33m\u001b[0m\u001b[1;33m\u001b[0m\u001b[0m\n",
      "\u001b[1;32mC:\\ProgramData\\Anaconda3\\lib\\site-packages\\xarray\\core\\indexing.py\u001b[0m in \u001b[0;36mconvert_label_indexer\u001b[1;34m(index, label, index_name, method, tolerance)\u001b[0m\n\u001b[0;32m    189\u001b[0m                 \u001b[0mindexer\u001b[0m \u001b[1;33m=\u001b[0m \u001b[0mindex\u001b[0m\u001b[1;33m.\u001b[0m\u001b[0mget_loc\u001b[0m\u001b[1;33m(\u001b[0m\u001b[0mlabel_value\u001b[0m\u001b[1;33m)\u001b[0m\u001b[1;33m\u001b[0m\u001b[1;33m\u001b[0m\u001b[0m\n\u001b[0;32m    190\u001b[0m             \u001b[1;32melse\u001b[0m\u001b[1;33m:\u001b[0m\u001b[1;33m\u001b[0m\u001b[1;33m\u001b[0m\u001b[0m\n\u001b[1;32m--> 191\u001b[1;33m                 \u001b[0mindexer\u001b[0m \u001b[1;33m=\u001b[0m \u001b[0mindex\u001b[0m\u001b[1;33m.\u001b[0m\u001b[0mget_loc\u001b[0m\u001b[1;33m(\u001b[0m\u001b[0mlabel_value\u001b[0m\u001b[1;33m,\u001b[0m \u001b[0mmethod\u001b[0m\u001b[1;33m=\u001b[0m\u001b[0mmethod\u001b[0m\u001b[1;33m,\u001b[0m \u001b[0mtolerance\u001b[0m\u001b[1;33m=\u001b[0m\u001b[0mtolerance\u001b[0m\u001b[1;33m)\u001b[0m\u001b[1;33m\u001b[0m\u001b[1;33m\u001b[0m\u001b[0m\n\u001b[0m\u001b[0;32m    192\u001b[0m         \u001b[1;32melif\u001b[0m \u001b[0mlabel\u001b[0m\u001b[1;33m.\u001b[0m\u001b[0mdtype\u001b[0m\u001b[1;33m.\u001b[0m\u001b[0mkind\u001b[0m \u001b[1;33m==\u001b[0m \u001b[1;34m\"b\"\u001b[0m\u001b[1;33m:\u001b[0m\u001b[1;33m\u001b[0m\u001b[1;33m\u001b[0m\u001b[0m\n\u001b[0;32m    193\u001b[0m             \u001b[0mindexer\u001b[0m \u001b[1;33m=\u001b[0m \u001b[0mlabel\u001b[0m\u001b[1;33m\u001b[0m\u001b[1;33m\u001b[0m\u001b[0m\n",
      "\u001b[1;32mC:\\ProgramData\\Anaconda3\\lib\\site-packages\\pandas\\core\\indexes\\base.py\u001b[0m in \u001b[0;36mget_loc\u001b[1;34m(self, key, method, tolerance)\u001b[0m\n\u001b[0;32m   2895\u001b[0m                 \u001b[1;32mreturn\u001b[0m \u001b[0mself\u001b[0m\u001b[1;33m.\u001b[0m\u001b[0m_engine\u001b[0m\u001b[1;33m.\u001b[0m\u001b[0mget_loc\u001b[0m\u001b[1;33m(\u001b[0m\u001b[0mcasted_key\u001b[0m\u001b[1;33m)\u001b[0m\u001b[1;33m\u001b[0m\u001b[1;33m\u001b[0m\u001b[0m\n\u001b[0;32m   2896\u001b[0m             \u001b[1;32mexcept\u001b[0m \u001b[0mKeyError\u001b[0m \u001b[1;32mas\u001b[0m \u001b[0merr\u001b[0m\u001b[1;33m:\u001b[0m\u001b[1;33m\u001b[0m\u001b[1;33m\u001b[0m\u001b[0m\n\u001b[1;32m-> 2897\u001b[1;33m                 \u001b[1;32mraise\u001b[0m \u001b[0mKeyError\u001b[0m\u001b[1;33m(\u001b[0m\u001b[0mkey\u001b[0m\u001b[1;33m)\u001b[0m \u001b[1;32mfrom\u001b[0m \u001b[0merr\u001b[0m\u001b[1;33m\u001b[0m\u001b[1;33m\u001b[0m\u001b[0m\n\u001b[0m\u001b[0;32m   2898\u001b[0m \u001b[1;33m\u001b[0m\u001b[0m\n\u001b[0;32m   2899\u001b[0m         \u001b[1;32mif\u001b[0m \u001b[0mtolerance\u001b[0m \u001b[1;32mis\u001b[0m \u001b[1;32mnot\u001b[0m \u001b[1;32mNone\u001b[0m\u001b[1;33m:\u001b[0m\u001b[1;33m\u001b[0m\u001b[1;33m\u001b[0m\u001b[0m\n",
      "\u001b[1;31mKeyError\u001b[0m: 3"
     ]
    }
   ],
   "source": [
    "# define analysis:\n",
    "list_for_MI = [BivariateMI(name='sst', func=class_BivariateMI.corr_map, \n",
    "                           alpha=.01, FDR_control=True, \n",
    "                           lags=np.array([['09-01', '11-30']]), # <- selecting time periods to aggregate\n",
    "                           distance_eps=700, min_area_in_degrees2=5)]\n",
    "\n",
    "rg = RGCPD(list_of_name_path=list_of_name_path,\n",
    "           list_for_MI=list_for_MI,\n",
    "           tfreq=None, # <- seasonal forecasting mode, set tfreq to None! \n",
    "           start_end_TVdate=('02-28', '12-01'), # <- defining DJF target period \n",
    "           path_outmain=os.path.join(main_dir,'data'))\n",
    "\n",
    "rg.pp_TV(TVdates_aggr=True) # <- start_end_TVdate defineds aggregated over period"
   ]
  },
  {
   "cell_type": "code",
   "execution_count": null,
   "metadata": {},
   "outputs": [],
   "source": [
    "Image(filename = \"./data/seasonal_mode_DJF.png\", width = 600, height = 300)"
   ]
  },
  {
   "cell_type": "code",
   "execution_count": null,
   "metadata": {},
   "outputs": [],
   "source": [
    "# define analysis:\n",
    "list_for_MI = [BivariateMI(name='sst', func=class_BivariateMI.corr_map, \n",
    "                           alpha=.05, FDR_control=True, \n",
    "                           lags=np.array([['06-01', '08-31'], ['01-01', '05-31']]), # <- selecting time-mean-periods\n",
    "                           distance_eps=700, min_area_in_degrees2=4)]\n",
    "\n",
    "rg = RGCPD(list_of_name_path=list_of_name_path,\n",
    "           list_for_MI=list_for_MI,\n",
    "           tfreq=None, # <- seasonal forecasting mode, set tfreq to None! \n",
    "           start_end_TVdate=('06-01', '08-31'), # <- defining JJA target period \n",
    "           path_outmain=os.path.join(main_dir,'data'))\n",
    "\n",
    "rg.pp_TV(TVdates_aggr=True) # <- start_end_TVdate defineds aggregated over period"
   ]
  },
  {
   "cell_type": "code",
   "execution_count": null,
   "metadata": {},
   "outputs": [],
   "source": [
    "# for lag period ['01-01', '05-31']\n",
    "Image(filename = \"./data/seasonal_mode_JJA.png\", width = 400, height = 200)"
   ]
  },
  {
   "cell_type": "markdown",
   "metadata": {},
   "source": [
    "Some notes on data input:\n",
    "- Works for both monthly and daily data. If loading in monthly data, the exact same reasoning is followed.\n",
    "- If loading one-value-per-year target (such as annual crop yield), one can choose to go into 'subseasonal mode' by selecting ext_annual_to_mon=True in RGCPD.pp_TV(). See subseasonal_mode.ipynb. Default is to stay in seasonal mode. "
   ]
  },
  {
   "cell_type": "code",
   "execution_count": null,
   "metadata": {},
   "outputs": [],
   "source": [
    "# if TVpath contains the xr.DataArray that is clustering beforehand, we can have a look at the spatial regions.\n",
    "rg.plot_df_clust()"
   ]
  },
  {
   "cell_type": "code",
   "execution_count": null,
   "metadata": {},
   "outputs": [],
   "source": [
    "rg.pp_precursors(detrend=True, anomaly=True, selbox=None)"
   ]
  },
  {
   "cell_type": "code",
   "execution_count": 4,
   "metadata": {},
   "outputs": [
    {
     "ename": "AttributeError",
     "evalue": "'RGCPD' object has no attribute 'fulltso'",
     "output_type": "error",
     "traceback": [
      "\u001b[1;31m---------------------------------------------------------------------------\u001b[0m",
      "\u001b[1;31mAttributeError\u001b[0m                            Traceback (most recent call last)",
      "\u001b[1;32m<ipython-input-4-1259c3f16d63>\u001b[0m in \u001b[0;36m<module>\u001b[1;34m\u001b[0m\n\u001b[1;32m----> 1\u001b[1;33m \u001b[0mrg\u001b[0m\u001b[1;33m.\u001b[0m\u001b[0mfulltso\u001b[0m\u001b[1;33m\u001b[0m\u001b[1;33m\u001b[0m\u001b[0m\n\u001b[0m",
      "\u001b[1;31mAttributeError\u001b[0m: 'RGCPD' object has no attribute 'fulltso'"
     ]
    }
   ],
   "source": [
    "rg.fulltso"
   ]
  },
  {
   "cell_type": "code",
   "execution_count": 5,
   "metadata": {},
   "outputs": [
    {
     "ename": "AttributeError",
     "evalue": "'RGCPD' object has no attribute 'fullts'",
     "output_type": "error",
     "traceback": [
      "\u001b[1;31m---------------------------------------------------------------------------\u001b[0m",
      "\u001b[1;31mAttributeError\u001b[0m                            Traceback (most recent call last)",
      "\u001b[1;32m<ipython-input-5-f61854a4d38f>\u001b[0m in \u001b[0;36m<module>\u001b[1;34m\u001b[0m\n\u001b[1;32m----> 1\u001b[1;33m \u001b[0mrg\u001b[0m\u001b[1;33m.\u001b[0m\u001b[0mtraintest\u001b[0m\u001b[1;33m(\u001b[0m\u001b[0mmethod\u001b[0m\u001b[1;33m=\u001b[0m\u001b[1;34m'random_5'\u001b[0m\u001b[1;33m)\u001b[0m\u001b[1;33m\u001b[0m\u001b[1;33m\u001b[0m\u001b[0m\n\u001b[0m",
      "\u001b[1;32m~\\Documents\\GitHub\\RGCPD\\RGCPD\\class_RGCPD.py\u001b[0m in \u001b[0;36mtraintest\u001b[1;34m(self, method, seed, kwrgs_events, subfoldername)\u001b[0m\n\u001b[0;32m    338\u001b[0m                     precursor_ts=self.list_import_ts)\n\u001b[0;32m    339\u001b[0m \u001b[1;33m\u001b[0m\u001b[0m\n\u001b[1;32m--> 340\u001b[1;33m         self.TV, self.df_splits = RV_and_traintest(self.fullts,\n\u001b[0m\u001b[0;32m    341\u001b[0m                                                    \u001b[0mself\u001b[0m\u001b[1;33m.\u001b[0m\u001b[0mTV_ts\u001b[0m\u001b[1;33m,\u001b[0m\u001b[1;33m\u001b[0m\u001b[1;33m\u001b[0m\u001b[0m\n\u001b[0;32m    342\u001b[0m                                                    \u001b[0mself\u001b[0m\u001b[1;33m.\u001b[0m\u001b[0mtraintestgroups\u001b[0m\u001b[1;33m,\u001b[0m\u001b[1;33m\u001b[0m\u001b[1;33m\u001b[0m\u001b[0m\n",
      "\u001b[1;31mAttributeError\u001b[0m: 'RGCPD' object has no attribute 'fullts'"
     ]
    }
   ],
   "source": [
    "rg.traintest(method='random_5')"
   ]
  },
  {
   "cell_type": "code",
   "execution_count": 6,
   "metadata": {},
   "outputs": [
    {
     "ename": "AttributeError",
     "evalue": "'RGCPD' object has no attribute 'kwrgs_load'",
     "output_type": "error",
     "traceback": [
      "\u001b[1;31m---------------------------------------------------------------------------\u001b[0m",
      "\u001b[1;31mAttributeError\u001b[0m                            Traceback (most recent call last)",
      "\u001b[1;32m<ipython-input-6-00ad2a30033d>\u001b[0m in \u001b[0;36m<module>\u001b[1;34m\u001b[0m\n\u001b[1;32m----> 1\u001b[1;33m \u001b[0mrg\u001b[0m\u001b[1;33m.\u001b[0m\u001b[0mcalc_corr_maps\u001b[0m\u001b[1;33m(\u001b[0m\u001b[1;33m)\u001b[0m\u001b[1;33m\u001b[0m\u001b[1;33m\u001b[0m\u001b[0m\n\u001b[0m",
      "\u001b[1;32m~\\Documents\\GitHub\\RGCPD\\RGCPD\\class_RGCPD.py\u001b[0m in \u001b[0;36mcalc_corr_maps\u001b[1;34m(self, var)\u001b[0m\n\u001b[0;32m    365\u001b[0m                 \u001b[0mvar\u001b[0m \u001b[1;33m=\u001b[0m \u001b[1;33m[\u001b[0m\u001b[0mvar\u001b[0m\u001b[1;33m]\u001b[0m\u001b[1;33m\u001b[0m\u001b[1;33m\u001b[0m\u001b[0m\n\u001b[0;32m    366\u001b[0m             \u001b[0mvar\u001b[0m \u001b[1;33m=\u001b[0m \u001b[1;33m[\u001b[0m\u001b[0mMI\u001b[0m\u001b[1;33m.\u001b[0m\u001b[0mname\u001b[0m \u001b[1;32mfor\u001b[0m \u001b[0mMI\u001b[0m \u001b[1;32min\u001b[0m \u001b[0mself\u001b[0m\u001b[1;33m.\u001b[0m\u001b[0mlist_for_MI\u001b[0m\u001b[1;33m]\u001b[0m\u001b[1;33m\u001b[0m\u001b[1;33m\u001b[0m\u001b[0m\n\u001b[1;32m--> 367\u001b[1;33m         \u001b[0mkwrgs_load\u001b[0m \u001b[1;33m=\u001b[0m \u001b[0mself\u001b[0m\u001b[1;33m.\u001b[0m\u001b[0mkwrgs_load\u001b[0m\u001b[1;33m\u001b[0m\u001b[1;33m\u001b[0m\u001b[0m\n\u001b[0m\u001b[0;32m    368\u001b[0m         \u001b[1;32mfor\u001b[0m \u001b[0mprecur\u001b[0m \u001b[1;32min\u001b[0m \u001b[0mself\u001b[0m\u001b[1;33m.\u001b[0m\u001b[0mlist_for_MI\u001b[0m\u001b[1;33m:\u001b[0m\u001b[1;33m\u001b[0m\u001b[1;33m\u001b[0m\u001b[0m\n\u001b[0;32m    369\u001b[0m             \u001b[0mprecur\u001b[0m\u001b[1;33m.\u001b[0m\u001b[0mfilepath\u001b[0m \u001b[1;33m=\u001b[0m \u001b[1;33m[\u001b[0m\u001b[0ml\u001b[0m \u001b[1;32mfor\u001b[0m \u001b[0ml\u001b[0m \u001b[1;32min\u001b[0m \u001b[0mself\u001b[0m\u001b[1;33m.\u001b[0m\u001b[0mlist_precur_pp\u001b[0m \u001b[1;32mif\u001b[0m \u001b[0ml\u001b[0m\u001b[1;33m[\u001b[0m\u001b[1;36m0\u001b[0m\u001b[1;33m]\u001b[0m\u001b[1;33m==\u001b[0m\u001b[0mprecur\u001b[0m\u001b[1;33m.\u001b[0m\u001b[0mname\u001b[0m\u001b[1;33m]\u001b[0m\u001b[1;33m[\u001b[0m\u001b[1;36m0\u001b[0m\u001b[1;33m]\u001b[0m\u001b[1;33m[\u001b[0m\u001b[1;36m1\u001b[0m\u001b[1;33m]\u001b[0m\u001b[1;33m\u001b[0m\u001b[1;33m\u001b[0m\u001b[0m\n",
      "\u001b[1;31mAttributeError\u001b[0m: 'RGCPD' object has no attribute 'kwrgs_load'"
     ]
    }
   ],
   "source": [
    "rg.calc_corr_maps() "
   ]
  },
  {
   "cell_type": "code",
   "execution_count": 7,
   "metadata": {},
   "outputs": [
    {
     "ename": "AttributeError",
     "evalue": "'BivariateMI' object has no attribute 'corr_xr'",
     "output_type": "error",
     "traceback": [
      "\u001b[1;31m---------------------------------------------------------------------------\u001b[0m",
      "\u001b[1;31mAttributeError\u001b[0m                            Traceback (most recent call last)",
      "\u001b[1;32m<ipython-input-7-e4d4a9bc8e96>\u001b[0m in \u001b[0;36m<module>\u001b[1;34m\u001b[0m\n\u001b[1;32m----> 1\u001b[1;33m \u001b[0mrg\u001b[0m\u001b[1;33m.\u001b[0m\u001b[0mplot_maps_corr\u001b[0m\u001b[1;33m(\u001b[0m\u001b[1;33m)\u001b[0m\u001b[1;33m\u001b[0m\u001b[1;33m\u001b[0m\u001b[0m\n\u001b[0m",
      "\u001b[1;32m~\\Documents\\GitHub\\RGCPD\\RGCPD\\class_RGCPD.py\u001b[0m in \u001b[0;36mplot_maps_corr\u001b[1;34m(self, var, plotlags, kwrgs_plot, mean, min_detect_gc, mask_xr, region_labels, save, append_str)\u001b[0m\n\u001b[0;32m    911\u001b[0m                 \u001b[0mprint\u001b[0m\u001b[1;33m(\u001b[0m\u001b[0me\u001b[0m\u001b[1;33m,\u001b[0m \u001b[1;34m'\\nvar not in list_for_MI'\u001b[0m\u001b[1;33m)\u001b[0m\u001b[1;33m\u001b[0m\u001b[1;33m\u001b[0m\u001b[0m\n\u001b[0;32m    912\u001b[0m             \u001b[1;32mif\u001b[0m \u001b[0mplotlags\u001b[0m \u001b[1;32mis\u001b[0m \u001b[1;32mNone\u001b[0m\u001b[1;33m:\u001b[0m\u001b[1;33m\u001b[0m\u001b[1;33m\u001b[0m\u001b[0m\n\u001b[1;32m--> 913\u001b[1;33m                 \u001b[0mplotlags\u001b[0m \u001b[1;33m=\u001b[0m \u001b[0mpclass\u001b[0m\u001b[1;33m.\u001b[0m\u001b[0mcorr_xr\u001b[0m\u001b[1;33m.\u001b[0m\u001b[0mlag\u001b[0m\u001b[1;33m.\u001b[0m\u001b[0mvalues\u001b[0m\u001b[1;33m\u001b[0m\u001b[1;33m\u001b[0m\u001b[0m\n\u001b[0m\u001b[0;32m    914\u001b[0m             \u001b[1;32mif\u001b[0m \u001b[0mregion_labels\u001b[0m \u001b[1;32mis\u001b[0m \u001b[1;32mnot\u001b[0m \u001b[1;32mNone\u001b[0m \u001b[1;32mand\u001b[0m \u001b[0mmask_xr\u001b[0m \u001b[1;32mis\u001b[0m \u001b[1;32mNone\u001b[0m\u001b[1;33m:\u001b[0m\u001b[1;33m\u001b[0m\u001b[1;33m\u001b[0m\u001b[0m\n\u001b[0;32m    915\u001b[0m                 \u001b[0mf\u001b[0m \u001b[1;33m=\u001b[0m \u001b[0mfind_precursors\u001b[0m\u001b[1;33m.\u001b[0m\u001b[0mview_or_replace_labels\u001b[0m\u001b[1;33m\u001b[0m\u001b[1;33m\u001b[0m\u001b[0m\n",
      "\u001b[1;31mAttributeError\u001b[0m: 'BivariateMI' object has no attribute 'corr_xr'"
     ]
    }
   ],
   "source": [
    "rg.plot_maps_corr()"
   ]
  },
  {
   "cell_type": "code",
   "execution_count": 8,
   "metadata": {},
   "outputs": [
    {
     "name": "stdout",
     "output_type": "stream",
     "text": [
      "No MI map available for sst\n"
     ]
    }
   ],
   "source": [
    "rg.cluster_list_MI()"
   ]
  },
  {
   "cell_type": "code",
   "execution_count": 9,
   "metadata": {},
   "outputs": [],
   "source": [
    "rg.quick_view_labels(mean=False) "
   ]
  },
  {
   "cell_type": "markdown",
   "metadata": {},
   "source": [
    "## Handling precursor regions"
   ]
  },
  {
   "cell_type": "code",
   "execution_count": 10,
   "metadata": {},
   "outputs": [
    {
     "ename": "AttributeError",
     "evalue": "'RGCPD' object has no attribute 'TV'",
     "output_type": "error",
     "traceback": [
      "\u001b[1;31m---------------------------------------------------------------------------\u001b[0m",
      "\u001b[1;31mAttributeError\u001b[0m                            Traceback (most recent call last)",
      "\u001b[1;32m<ipython-input-10-98cf8b1aabc5>\u001b[0m in \u001b[0;36m<module>\u001b[1;34m\u001b[0m\n\u001b[1;32m----> 1\u001b[1;33m \u001b[0mrg\u001b[0m\u001b[1;33m.\u001b[0m\u001b[0mget_ts_prec\u001b[0m\u001b[1;33m(\u001b[0m\u001b[1;33m)\u001b[0m\u001b[1;33m\u001b[0m\u001b[1;33m\u001b[0m\u001b[0m\n\u001b[0m\u001b[0;32m      2\u001b[0m \u001b[0mrg\u001b[0m\u001b[1;33m.\u001b[0m\u001b[0m_df_count\u001b[0m \u001b[1;31m# how many times is each precursor regions found in the different training sets\u001b[0m\u001b[1;33m\u001b[0m\u001b[1;33m\u001b[0m\u001b[0m\n",
      "\u001b[1;32m~\\Documents\\GitHub\\RGCPD\\RGCPD\\class_RGCPD.py\u001b[0m in \u001b[0;36mget_ts_prec\u001b[1;34m(self, precur_aggr, keys_ext, start_end_TVdate)\u001b[0m\n\u001b[0;32m    450\u001b[0m             \u001b[1;31m# use original TV timeseries\u001b[0m\u001b[1;33m\u001b[0m\u001b[1;33m\u001b[0m\u001b[1;33m\u001b[0m\u001b[0m\n\u001b[0;32m    451\u001b[0m             \u001b[0mstart_end_TVdate\u001b[0m \u001b[1;33m=\u001b[0m \u001b[0mself\u001b[0m\u001b[1;33m.\u001b[0m\u001b[0mstart_end_TVdate\u001b[0m\u001b[1;33m\u001b[0m\u001b[1;33m\u001b[0m\u001b[0m\n\u001b[1;32m--> 452\u001b[1;33m             \u001b[0mTV\u001b[0m \u001b[1;33m=\u001b[0m \u001b[0mself\u001b[0m\u001b[1;33m.\u001b[0m\u001b[0mTV\u001b[0m \u001b[1;33m;\u001b[0m \u001b[0mdf_splits\u001b[0m \u001b[1;33m=\u001b[0m \u001b[0mself\u001b[0m\u001b[1;33m.\u001b[0m\u001b[0mdf_splits\u001b[0m\u001b[1;33m\u001b[0m\u001b[1;33m\u001b[0m\u001b[0m\n\u001b[0m\u001b[0;32m    453\u001b[0m         self.df_data = pd.DataFrame(TV.fullts.values, columns=[TV.name],\n\u001b[0;32m    454\u001b[0m                                     index=TV.dates_all)\n",
      "\u001b[1;31mAttributeError\u001b[0m: 'RGCPD' object has no attribute 'TV'"
     ]
    }
   ],
   "source": [
    "rg.get_ts_prec()\n",
    "rg._df_count # how many times is each precursor regions found in the different training sets"
   ]
  },
  {
   "cell_type": "code",
   "execution_count": 11,
   "metadata": {},
   "outputs": [
    {
     "ename": "AttributeError",
     "evalue": "'BivariateMI' object has no attribute 'prec_labels'",
     "output_type": "error",
     "traceback": [
      "\u001b[1;31m---------------------------------------------------------------------------\u001b[0m",
      "\u001b[1;31mAttributeError\u001b[0m                            Traceback (most recent call last)",
      "\u001b[1;32m<ipython-input-11-e4494089ffcf>\u001b[0m in \u001b[0;36m<module>\u001b[1;34m\u001b[0m\n\u001b[0;32m      1\u001b[0m \u001b[1;32mimport\u001b[0m \u001b[0mfind_precursors\u001b[0m\u001b[1;33m,\u001b[0m \u001b[0mplot_maps\u001b[0m\u001b[1;33m\u001b[0m\u001b[1;33m\u001b[0m\u001b[0m\n\u001b[1;32m----> 2\u001b[1;33m \u001b[0mdf_prec_regions\u001b[0m \u001b[1;33m=\u001b[0m \u001b[0mfind_precursors\u001b[0m\u001b[1;33m.\u001b[0m\u001b[0mlabels_to_df\u001b[0m\u001b[1;33m(\u001b[0m\u001b[0mrg\u001b[0m\u001b[1;33m.\u001b[0m\u001b[0mlist_for_MI\u001b[0m\u001b[1;33m[\u001b[0m\u001b[1;36m0\u001b[0m\u001b[1;33m]\u001b[0m\u001b[1;33m.\u001b[0m\u001b[0mprec_labels\u001b[0m\u001b[1;33m)\u001b[0m\u001b[1;33m\u001b[0m\u001b[1;33m\u001b[0m\u001b[0m\n\u001b[0m\u001b[0;32m      3\u001b[0m \u001b[0mdf_prec_regions\u001b[0m \u001b[1;31m# center lat,lon coordinates and size (in number of gridcells)\u001b[0m\u001b[1;33m\u001b[0m\u001b[1;33m\u001b[0m\u001b[0m\n",
      "\u001b[1;31mAttributeError\u001b[0m: 'BivariateMI' object has no attribute 'prec_labels'"
     ]
    }
   ],
   "source": [
    "import find_precursors, plot_maps\n",
    "df_prec_regions = find_precursors.labels_to_df(rg.list_for_MI[0].prec_labels)\n",
    "df_prec_regions # center lat,lon coordinates and size (in number of gridcells)"
   ]
  },
  {
   "cell_type": "markdown",
   "metadata": {},
   "source": [
    "## Splitting precursor regions"
   ]
  },
  {
   "cell_type": "code",
   "execution_count": 17,
   "metadata": {},
   "outputs": [
    {
     "name": "stdout",
     "output_type": "stream",
     "text": [
      "Plotting Corr maps sst_labels_init, split 0, lag 0\n",
      "\n",
      "New label will become 3.0\n",
      "Plotting Corr maps sst_labels_init, split 0, lag 0\n"
     ]
    },
    {
     "data": {
      "image/png": "[encoded data removed]",
      "text/plain": [
       "<Figure size 880x300 with 2 Axes>"
      ]
     },
     "metadata": {
      "needs_background": "light"
     },
     "output_type": "display_data"
    },
    {
     "data": {
      "image/png": "[encoded data removed]",
      "text/plain": [
       "<Figure size 880x300 with 2 Axes>"
      ]
     },
     "metadata": {
      "needs_background": "light"
     },
     "output_type": "display_data"
    }
   ],
   "source": [
    "split = find_precursors.split_region_by_lonlat\n",
    "new_labels, label = split(rg.list_for_MI[0].prec_labels, label=1,\n",
    "             kwrgs_mask_latlon={'latmax':30}) # <- split region 1 by 30 degree latitude\n",
    "rg.list_for_MI[0].prec_labels = new_labels"
   ]
  },
  {
   "cell_type": "markdown",
   "metadata": {},
   "source": [
    "## Merging precursor regions\n",
    "Merging what we just splitted."
   ]
  },
  {
   "cell_type": "code",
   "execution_count": 18,
   "metadata": {},
   "outputs": [
    {
     "name": "stdout",
     "output_type": "stream",
     "text": [
      "Plotting Corr maps sst_labels_init, split 0, lag 0\n",
      "Plotting Corr maps sst_labels_init, split 0, lag 1\n"
     ]
    },
    {
     "data": {
      "image/png": "[encoded data removed]",
      "text/plain": [
       "<Figure size 1660x300 with 3 Axes>"
      ]
     },
     "metadata": {
      "needs_background": "light"
     },
     "output_type": "display_data"
    }
   ],
   "source": [
    "merge = find_precursors.merge_labels_within_lonlatbox\n",
    "updated_labels = merge(rg.list_for_MI[0], lonlatbox=[170,200,25,40])\n",
    "plot_maps.plot_labels(updated_labels.mean(dim='split'))                                                    "
   ]
  },
  {
   "cell_type": "code",
   "execution_count": 19,
   "metadata": {},
   "outputs": [],
   "source": [
    "rg.list_for_MI[0].prec_labels = updated_labels # overwrite prec_labels in precur class"
   ]
  },
  {
   "cell_type": "code",
   "execution_count": 20,
   "metadata": {},
   "outputs": [
    {
     "name": "stdout",
     "output_type": "stream",
     "text": [
      "\n",
      "Getting MI timeseries\n",
      "There are [2, 3, 2, 2, 2] regions in total (list of different splits)\n"
     ]
    }
   ],
   "source": [
    "rg.get_ts_prec()"
   ]
  },
  {
   "cell_type": "code",
   "execution_count": 21,
   "metadata": {},
   "outputs": [
    {
     "data": {
      "text/html": [
       "<div>\n",
       "<style scoped>\n",
       "    .dataframe tbody tr th:only-of-type {\n",
       "        vertical-align: middle;\n",
       "    }\n",
       "\n",
       "    .dataframe tbody tr th {\n",
       "        vertical-align: top;\n",
       "    }\n",
       "\n",
       "    .dataframe thead th {\n",
       "        text-align: right;\n",
       "    }\n",
       "</style>\n",
       "<table border=\"1\" class=\"dataframe\">\n",
       "  <thead>\n",
       "    <tr style=\"text-align: right;\">\n",
       "      <th></th>\n",
       "      <th></th>\n",
       "      <th>3ts</th>\n",
       "      <th>0..1..sst</th>\n",
       "      <th>0..2..sst</th>\n",
       "      <th>1..2..sst</th>\n",
       "      <th>TrainIsTrue</th>\n",
       "      <th>RV_mask</th>\n",
       "    </tr>\n",
       "  </thead>\n",
       "  <tbody>\n",
       "    <tr>\n",
       "      <th rowspan=\"5\" valign=\"top\">0</th>\n",
       "      <th>1979-01-01</th>\n",
       "      <td>-0.790402</td>\n",
       "      <td>-0.136218</td>\n",
       "      <td>0.267299</td>\n",
       "      <td>NaN</td>\n",
       "      <td>True</td>\n",
       "      <td>True</td>\n",
       "    </tr>\n",
       "    <tr>\n",
       "      <th>1980-01-01</th>\n",
       "      <td>1.672683</td>\n",
       "      <td>0.446950</td>\n",
       "      <td>-0.241465</td>\n",
       "      <td>NaN</td>\n",
       "      <td>True</td>\n",
       "      <td>True</td>\n",
       "    </tr>\n",
       "    <tr>\n",
       "      <th>1981-01-01</th>\n",
       "      <td>0.007222</td>\n",
       "      <td>-0.142051</td>\n",
       "      <td>-0.067447</td>\n",
       "      <td>NaN</td>\n",
       "      <td>True</td>\n",
       "      <td>True</td>\n",
       "    </tr>\n",
       "    <tr>\n",
       "      <th>1982-01-01</th>\n",
       "      <td>-1.241871</td>\n",
       "      <td>-0.364502</td>\n",
       "      <td>-0.363096</td>\n",
       "      <td>NaN</td>\n",
       "      <td>False</td>\n",
       "      <td>True</td>\n",
       "    </tr>\n",
       "    <tr>\n",
       "      <th>1983-01-01</th>\n",
       "      <td>1.724042</td>\n",
       "      <td>-0.112721</td>\n",
       "      <td>-0.434444</td>\n",
       "      <td>NaN</td>\n",
       "      <td>True</td>\n",
       "      <td>True</td>\n",
       "    </tr>\n",
       "    <tr>\n",
       "      <th>...</th>\n",
       "      <th>...</th>\n",
       "      <td>...</td>\n",
       "      <td>...</td>\n",
       "      <td>...</td>\n",
       "      <td>...</td>\n",
       "      <td>...</td>\n",
       "      <td>...</td>\n",
       "    </tr>\n",
       "    <tr>\n",
       "      <th rowspan=\"5\" valign=\"top\">4</th>\n",
       "      <th>2014-01-01</th>\n",
       "      <td>-1.447113</td>\n",
       "      <td>0.030395</td>\n",
       "      <td>0.588808</td>\n",
       "      <td>NaN</td>\n",
       "      <td>True</td>\n",
       "      <td>True</td>\n",
       "    </tr>\n",
       "    <tr>\n",
       "      <th>2015-01-01</th>\n",
       "      <td>-0.790045</td>\n",
       "      <td>-0.148892</td>\n",
       "      <td>0.932759</td>\n",
       "      <td>NaN</td>\n",
       "      <td>True</td>\n",
       "      <td>True</td>\n",
       "    </tr>\n",
       "    <tr>\n",
       "      <th>2016-01-01</th>\n",
       "      <td>0.831930</td>\n",
       "      <td>-0.262468</td>\n",
       "      <td>0.241978</td>\n",
       "      <td>NaN</td>\n",
       "      <td>True</td>\n",
       "      <td>True</td>\n",
       "    </tr>\n",
       "    <tr>\n",
       "      <th>2017-01-01</th>\n",
       "      <td>-1.041488</td>\n",
       "      <td>-0.120031</td>\n",
       "      <td>0.108529</td>\n",
       "      <td>NaN</td>\n",
       "      <td>True</td>\n",
       "      <td>True</td>\n",
       "    </tr>\n",
       "    <tr>\n",
       "      <th>2018-01-01</th>\n",
       "      <td>0.265816</td>\n",
       "      <td>-0.635967</td>\n",
       "      <td>-0.118303</td>\n",
       "      <td>NaN</td>\n",
       "      <td>True</td>\n",
       "      <td>True</td>\n",
       "    </tr>\n",
       "  </tbody>\n",
       "</table>\n",
       "<p>200 rows × 6 columns</p>\n",
       "</div>"
      ],
      "text/plain": [
       "                   3ts  0..1..sst  0..2..sst  1..2..sst  TrainIsTrue  RV_mask\n",
       "0 1979-01-01 -0.790402  -0.136218   0.267299        NaN         True     True\n",
       "  1980-01-01  1.672683   0.446950  -0.241465        NaN         True     True\n",
       "  1981-01-01  0.007222  -0.142051  -0.067447        NaN         True     True\n",
       "  1982-01-01 -1.241871  -0.364502  -0.363096        NaN        False     True\n",
       "  1983-01-01  1.724042  -0.112721  -0.434444        NaN         True     True\n",
       "...                ...        ...        ...        ...          ...      ...\n",
       "4 2014-01-01 -1.447113   0.030395   0.588808        NaN         True     True\n",
       "  2015-01-01 -0.790045  -0.148892   0.932759        NaN         True     True\n",
       "  2016-01-01  0.831930  -0.262468   0.241978        NaN         True     True\n",
       "  2017-01-01 -1.041488  -0.120031   0.108529        NaN         True     True\n",
       "  2018-01-01  0.265816  -0.635967  -0.118303        NaN         True     True\n",
       "\n",
       "[200 rows x 6 columns]"
      ]
     },
     "execution_count": 21,
     "metadata": {},
     "output_type": "execute_result"
    }
   ],
   "source": [
    "rg.df_data"
   ]
  },
  {
   "cell_type": "markdown",
   "metadata": {},
   "source": [
    "## Train-test cross-validation and Response Variable mask handling\n",
    "\n",
    "- The different train-test folds are organized in the first level index.\n",
    "- Each fold contains precursor timeseries that were extracted from only training data.\n",
    "- The Training data is specified by the TrainIsTrue mask.\n",
    "- In seasonal mode the Target Variable mask is always True.\n",
    "- No lag shifting of precursors, user needs to select timeseries with the desired lag (period mean) to feed into their analysis/forecast model."
   ]
  },
  {
   "cell_type": "markdown",
   "metadata": {},
   "source": [
    "## Functionality for Causal Inference\n",
    "(Define your own Conditional Independence tests)"
   ]
  },
  {
   "cell_type": "code",
   "execution_count": 1,
   "metadata": {},
   "outputs": [
    {
     "ename": "ModuleNotFoundError",
     "evalue": "No module named 'wrapper_PCMCI'",
     "output_type": "error",
     "traceback": [
      "\u001b[1;31m---------------------------------------------------------------------------\u001b[0m",
      "\u001b[1;31mModuleNotFoundError\u001b[0m                       Traceback (most recent call last)",
      "\u001b[1;32m<ipython-input-1-e81024b22556>\u001b[0m in \u001b[0;36m<module>\u001b[1;34m\u001b[0m\n\u001b[1;32m----> 1\u001b[1;33m \u001b[1;32mimport\u001b[0m \u001b[0mwrapper_PCMCI\u001b[0m\u001b[1;33m\u001b[0m\u001b[1;33m\u001b[0m\u001b[0m\n\u001b[0m\u001b[0;32m      2\u001b[0m corr, pvals = wrapper_PCMCI.df_data_Parcorr(rg.df_data, \n\u001b[0;32m      3\u001b[0m                                             \u001b[0mtarget\u001b[0m\u001b[1;33m=\u001b[0m\u001b[1;34m'3ts'\u001b[0m\u001b[1;33m,\u001b[0m\u001b[1;33m\u001b[0m\u001b[1;33m\u001b[0m\u001b[0m\n\u001b[0;32m      4\u001b[0m                                             \u001b[0mkeys\u001b[0m\u001b[1;33m=\u001b[0m\u001b[1;33m[\u001b[0m\u001b[1;34m'0..2..sst'\u001b[0m\u001b[1;33m]\u001b[0m\u001b[1;33m,\u001b[0m\u001b[1;33m\u001b[0m\u001b[1;33m\u001b[0m\u001b[0m\n\u001b[0;32m      5\u001b[0m                                             z_keys=['0..1..sst'])\n",
      "\u001b[1;31mModuleNotFoundError\u001b[0m: No module named 'wrapper_PCMCI'"
     ]
    }
   ],
   "source": [
    "import wrapper_PCMCI\n",
    "corr, pvals = wrapper_PCMCI.df_data_Parcorr(rg.df_data, \n",
    "                                            target='3ts',\n",
    "                                            keys=['0..2..sst'],\n",
    "                                            z_keys=['0..1..sst'])\n",
    "pvals"
   ]
  },
  {
   "cell_type": "code",
   "execution_count": 23,
   "metadata": {},
   "outputs": [
    {
     "data": {
      "image/png": "[encoded data removed]",
      "text/plain": [
       "<Figure size 1000x250 with 1 Axes>"
      ]
     },
     "metadata": {
      "needs_background": "light"
     },
     "output_type": "display_data"
    }
   ],
   "source": [
    "df_trans = rg.transform_df_data()\n",
    "\n",
    "df_z_removed = wrapper_PCMCI.df_data_remove_z(df_trans,\n",
    "                                              keys=['3ts'],\n",
    "                                              z=['0..2..sst'])"
   ]
  },
  {
   "cell_type": "markdown",
   "metadata": {},
   "source": [
    "## Causal Discovery using Tigramite not possible in seasonal mode\n",
    "This is because there is no 'shared time-axis', hence, lags cannot be automatically handled. \n",
    "Lags should be dealt with mannually by selecting the timeseries you want to use/analyse."
   ]
  },
  {
   "cell_type": "markdown",
   "metadata": {},
   "source": [
    "# Forecasting pipeline 1"
   ]
  },
  {
   "cell_type": "code",
   "execution_count": 12,
   "metadata": {},
   "outputs": [
    {
     "ename": "AttributeError",
     "evalue": "'RGCPD' object has no attribute 'TV'",
     "output_type": "error",
     "traceback": [
      "\u001b[1;31m---------------------------------------------------------------------------\u001b[0m",
      "\u001b[1;31mAttributeError\u001b[0m                            Traceback (most recent call last)",
      "\u001b[1;32m<ipython-input-12-343b8a8a9d90>\u001b[0m in \u001b[0;36m<module>\u001b[1;34m\u001b[0m\n\u001b[0;32m     26\u001b[0m \u001b[1;33m\u001b[0m\u001b[0m\n\u001b[0;32m     27\u001b[0m \u001b[1;33m\u001b[0m\u001b[0m\n\u001b[1;32m---> 28\u001b[1;33m \u001b[0mtarget_ts\u001b[0m \u001b[1;33m=\u001b[0m \u001b[0mrg\u001b[0m\u001b[1;33m.\u001b[0m\u001b[0mTV\u001b[0m\u001b[1;33m.\u001b[0m\u001b[0mRV_ts\u001b[0m \u001b[1;33m;\u001b[0m\u001b[1;33m\u001b[0m\u001b[1;33m\u001b[0m\u001b[0m\n\u001b[0m\u001b[0;32m     29\u001b[0m \u001b[0mtarget_ts\u001b[0m \u001b[1;33m=\u001b[0m \u001b[1;33m(\u001b[0m\u001b[0mtarget_ts\u001b[0m \u001b[1;33m-\u001b[0m \u001b[0mtarget_ts\u001b[0m\u001b[1;33m.\u001b[0m\u001b[0mmean\u001b[0m\u001b[1;33m(\u001b[0m\u001b[1;33m)\u001b[0m\u001b[1;33m)\u001b[0m \u001b[1;33m/\u001b[0m \u001b[0mtarget_ts\u001b[0m\u001b[1;33m.\u001b[0m\u001b[0mstd\u001b[0m\u001b[1;33m(\u001b[0m\u001b[1;33m)\u001b[0m\u001b[1;33m\u001b[0m\u001b[1;33m\u001b[0m\u001b[0m\n\u001b[0;32m     30\u001b[0m \u001b[1;32mif\u001b[0m \u001b[0mprediction\u001b[0m \u001b[1;33m==\u001b[0m \u001b[1;34m'events'\u001b[0m\u001b[1;33m:\u001b[0m\u001b[1;33m\u001b[0m\u001b[1;33m\u001b[0m\u001b[0m\n",
      "\u001b[1;31mAttributeError\u001b[0m: 'RGCPD' object has no attribute 'TV'"
     ]
    }
   ],
   "source": [
    "import func_models as fc_utils\n",
    "from stat_models_cont import ScikitModel\n",
    "import numpy as np\n",
    "from sklearn.linear_model import Ridge\n",
    "from sklearn.linear_model import LogisticRegressionCV\n",
    "\n",
    "\n",
    "# choose type prediciton (continuous or probabilistic) by making comment #\n",
    "prediction = 'continuous'   \n",
    "# prediction = 'events' ; q = .66 # quantile threshold for event definition\n",
    "\n",
    "if prediction == 'continuous':\n",
    "    model = ScikitModel(Ridge, verbosity=0)\n",
    "    # You can also tune parameters by passing a list of values. Then GridSearchCV from sklearn will \n",
    "    # find the set of parameters that give the best mean score on all kfold test sets. \n",
    "    # below we pass a list of alpha's to tune the regularization.\n",
    "    alphas = list(np.concatenate([[1E-20],np.logspace(-5,0, 6), np.logspace(.01, 2.5, num=25)]))                       \n",
    "    kwrgs_model = {'scoringCV':'neg_mean_absolute_error',\n",
    "                   'kfold':5,\n",
    "                   'alpha':alphas} # large a, strong regul.\n",
    "elif prediction == 'events':\n",
    "    model = ScikitModel(LogisticRegressionCV, verbosity=0)\n",
    "    kwrgs_model = {'kfold':5,\n",
    "                   'scoring':'neg_brier_score'}\n",
    "\n",
    "    \n",
    "\n",
    "target_ts = rg.TV.RV_ts ; \n",
    "target_ts = (target_ts - target_ts.mean()) / target_ts.std()\n",
    "if prediction == 'events':\n",
    "    if q >= 0.5:\n",
    "        target_ts = (target_ts > target_ts.quantile(q)).astype(int)\n",
    "    elif q < .5:\n",
    "        target_ts = (target_ts < target_ts.quantile(q)).astype(int)\n",
    "    BSS = fc_utils.ErrorSkillScore(constant_bench=float(target_ts.mean())).BSS\n",
    "    score_func_list = [BSS, fc_utils.metrics.roc_auc_score]\n",
    "    \n",
    "elif prediction == 'continuous':\n",
    "    RMSE_SS = fc_utils.ErrorSkillScore(constant_bench=float(target_ts.mean())).RMSE\n",
    "    MAE_SS = fc_utils.ErrorSkillScore(constant_bench=float(target_ts.mean())).MAE\n",
    "    score_func_list = [RMSE_SS, fc_utils.corrcoef, MAE_SS]\n",
    "        \n",
    "    \n",
    "out = rg.fit_df_data_ridge(target=target_ts,\n",
    "                            keys=['0..1..sst', '0..2..sst'],\n",
    "                            fcmodel=model,\n",
    "                            kwrgs_model=kwrgs_model,\n",
    "                            transformer=False,\n",
    "                            tau_min=0, tau_max=0) # <- lag should be zero\n",
    "predict, weights, model_lags = out\n",
    "\n",
    "df_train_m, df_test_s_m, df_test_m, df_boot = fc_utils.get_scores(predict,\n",
    "                                                                 rg.df_data.iloc[:,-2:],\n",
    "                                                                 score_func_list,\n",
    "                                                                 n_boot = 100,\n",
    "                                                                 score_per_test=False,\n",
    "                                                                 blocksize=1,\n",
    "                                                                 rng_seed=1)\n",
    "lag = 0\n",
    "if prediction == 'events':\n",
    "    print(model.scikitmodel.__name__, '\\n', f'Test score at lag {lag}\\n',\n",
    "          'BSS {:.2f}\\n'.format(df_test_m.loc[0].loc[lag].loc['BSS']),\n",
    "          'AUC {:.2f}'.format(df_test_m.loc[0].loc[lag].loc['roc_auc_score']),\n",
    "          '\\nTrain score\\n',\n",
    "          'BSS {:.2f}\\n'.format(df_train_m.mean(0).loc[lag]['BSS']),\n",
    "          'AUC {:.2f}'.format(df_train_m.mean(0).loc[lag]['roc_auc_score']))\n",
    "elif prediction == 'continuous':\n",
    "    print(model.scikitmodel.__name__, '\\n', 'Test score\\n',\n",
    "              'RMSE {:.2f}\\n'.format(df_test_m.loc[0][lag]['RMSE']),\n",
    "              'MAE {:.2f}\\n'.format(df_test_m.loc[0][lag]['MAE']),\n",
    "              'corrcoef {:.2f}'.format(df_test_m.loc[0][lag]['corrcoef']),\n",
    "              '\\nTrain score\\n',\n",
    "              'RMSE {:.2f}\\n'.format(df_train_m.mean(0).loc[lag]['RMSE']),\n",
    "              'MAE {:.2f}\\n'.format(df_train_m.mean(0).loc[lag]['MAE']),\n",
    "              'corrcoef {:.2f}'.format(df_train_m.mean(0).loc[lag]['corrcoef']))"
   ]
  },
  {
   "cell_type": "code",
   "execution_count": 29,
   "metadata": {},
   "outputs": [
    {
     "data": {
      "text/html": [
       "<div>\n",
       "<style scoped>\n",
       "    .dataframe tbody tr th:only-of-type {\n",
       "        vertical-align: middle;\n",
       "    }\n",
       "\n",
       "    .dataframe tbody tr th {\n",
       "        vertical-align: top;\n",
       "    }\n",
       "\n",
       "    .dataframe thead th {\n",
       "        text-align: right;\n",
       "    }\n",
       "</style>\n",
       "<table border=\"1\" class=\"dataframe\">\n",
       "  <thead>\n",
       "    <tr style=\"text-align: right;\">\n",
       "      <th></th>\n",
       "      <th></th>\n",
       "      <th>RV3ts</th>\n",
       "      <th>0</th>\n",
       "    </tr>\n",
       "  </thead>\n",
       "  <tbody>\n",
       "    <tr>\n",
       "      <th rowspan=\"5\" valign=\"top\">0</th>\n",
       "      <th>1979-01-01</th>\n",
       "      <td>-0.732095</td>\n",
       "      <td>-0.459662</td>\n",
       "    </tr>\n",
       "    <tr>\n",
       "      <th>1980-01-01</th>\n",
       "      <td>1.346625</td>\n",
       "      <td>0.752030</td>\n",
       "    </tr>\n",
       "    <tr>\n",
       "      <th>1981-01-01</th>\n",
       "      <td>-0.058941</td>\n",
       "      <td>-0.009751</td>\n",
       "    </tr>\n",
       "    <tr>\n",
       "      <th>1982-01-01</th>\n",
       "      <td>-1.113113</td>\n",
       "      <td>0.193854</td>\n",
       "    </tr>\n",
       "    <tr>\n",
       "      <th>1983-01-01</th>\n",
       "      <td>1.389969</td>\n",
       "      <td>0.515361</td>\n",
       "    </tr>\n",
       "    <tr>\n",
       "      <th>...</th>\n",
       "      <th>...</th>\n",
       "      <td>...</td>\n",
       "      <td>...</td>\n",
       "    </tr>\n",
       "    <tr>\n",
       "      <th rowspan=\"5\" valign=\"top\">4</th>\n",
       "      <th>2014-01-01</th>\n",
       "      <td>-1.286326</td>\n",
       "      <td>-0.915799</td>\n",
       "    </tr>\n",
       "    <tr>\n",
       "      <th>2015-01-01</th>\n",
       "      <td>-0.731794</td>\n",
       "      <td>-1.679651</td>\n",
       "    </tr>\n",
       "    <tr>\n",
       "      <th>2016-01-01</th>\n",
       "      <td>0.637071</td>\n",
       "      <td>-0.659861</td>\n",
       "    </tr>\n",
       "    <tr>\n",
       "      <th>2017-01-01</th>\n",
       "      <td>-0.943999</td>\n",
       "      <td>-0.284364</td>\n",
       "    </tr>\n",
       "    <tr>\n",
       "      <th>2018-01-01</th>\n",
       "      <td>0.159300</td>\n",
       "      <td>-0.469219</td>\n",
       "    </tr>\n",
       "  </tbody>\n",
       "</table>\n",
       "<p>200 rows × 2 columns</p>\n",
       "</div>"
      ],
      "text/plain": [
       "                 RV3ts         0\n",
       "0 1979-01-01 -0.732095 -0.459662\n",
       "  1980-01-01  1.346625  0.752030\n",
       "  1981-01-01 -0.058941 -0.009751\n",
       "  1982-01-01 -1.113113  0.193854\n",
       "  1983-01-01  1.389969  0.515361\n",
       "...                ...       ...\n",
       "4 2014-01-01 -1.286326 -0.915799\n",
       "  2015-01-01 -0.731794 -1.679651\n",
       "  2016-01-01  0.637071 -0.659861\n",
       "  2017-01-01 -0.943999 -0.284364\n",
       "  2018-01-01  0.159300 -0.469219\n",
       "\n",
       "[200 rows x 2 columns]"
      ]
     },
     "execution_count": 29,
     "metadata": {},
     "output_type": "execute_result"
    }
   ],
   "source": [
    "predict"
   ]
  },
  {
   "cell_type": "code",
   "execution_count": 30,
   "metadata": {},
   "outputs": [
    {
     "data": {
      "text/plain": [
       "GridSearchCV(cv=PredefinedSplit(test_fold=array([0, 0, 4, 3, 1, 1, 2, 1, 1, 4, 0, 4, 0, 3, 3, 0, 2, 0, 3, 2, 2, 0,\n",
       "       4, 1, 1, 1, 4, 3, 4, 3, 2, 2])),\n",
       "             estimator=Ridge(),\n",
       "             param_grid={'alpha': [1e-20, 1e-05, 0.0001, 0.001, 0.01, 0.1, 1.0,\n",
       "                                   1.023292992280754, 1.2994213556374827,\n",
       "                                   1.6500610013202277, 2.0953182709100417,\n",
       "                                   2.6607250597988097, 3.378702864441983,\n",
       "                                   4.290421892388855, 5.448161839981667,\n",
       "                                   6.918309709189366, 8.78516656407272,\n",
       "                                   11.155781513508526, 14.166090109900438,\n",
       "                                   17.988709151287882, 22.84283485557348,\n",
       "                                   29.006811986931545, 36.834094671918606,\n",
       "                                   46.77351412871984, 59.39501549952438,\n",
       "                                   75.42233958475711, 95.77452351172415,\n",
       "                                   121.6186000646368, 154.43651755543775,\n",
       "                                   196.11011754760474, ...]},\n",
       "             return_train_score=True, scoring='neg_mean_absolute_error')"
      ]
     },
     "execution_count": 30,
     "metadata": {},
     "output_type": "execute_result"
    }
   ],
   "source": [
    "m = model_lags['lag_0']['split_0']\n",
    "m # if prediction == 'continuous', this show the GridSearchCV output, else it shows the fitted logistic model."
   ]
  },
  {
   "cell_type": "code",
   "execution_count": 31,
   "metadata": {},
   "outputs": [
    {
     "name": "stdout",
     "output_type": "stream",
     "text": [
      "[-0.55257275 -0.55257277 -0.55257301 -0.55257538 -0.55259925 -0.5528512\n",
      " -0.55715622 -0.55725496 -0.55836574 -0.55963454 -0.56146037 -0.56597511\n",
      " -0.57648965 -0.58844391 -0.60116253 -0.61612599 -0.63711863 -0.65769551\n",
      " -0.67664324 -0.69581965 -0.71408093 -0.73055739 -0.74479586 -0.75676311\n",
      " -0.76675604 -0.77495425 -0.78162604 -0.78702    -0.79135771 -0.79483106\n",
      " -0.79760275 -0.79980845]\n"
     ]
    }
   ],
   "source": [
    "if prediction == 'continuous':\n",
    "    print(m.cv_results_['mean_test_score'])"
   ]
  },
  {
   "cell_type": "code",
   "execution_count": 32,
   "metadata": {},
   "outputs": [
    {
     "data": {
      "text/plain": [
       "<AxesSubplot:>"
      ]
     },
     "execution_count": 32,
     "metadata": {},
     "output_type": "execute_result"
    },
    {
     "data": {
      "image/png": "[encoded data removed]",
      "text/plain": [
       "<Figure size 1000x400 with 1 Axes>"
      ]
     },
     "metadata": {
      "needs_background": "light"
     },
     "output_type": "display_data"
    }
   ],
   "source": [
    "df_test_m.loc[0].plot.bar(rot=0, color=['blue', 'green', 'purple'], figsize=(10,4))"
   ]
  },
  {
   "cell_type": "code",
   "execution_count": 34,
   "metadata": {},
   "outputs": [
    {
     "name": "stderr",
     "output_type": "stream",
     "text": [
      "/Users/semvijverberg/miniconda3/envs/RGCPD1/lib/python3.7/site-packages/seaborn/categorical.py:3772: UserWarning: catplot is a figure-level function and does not accept target axes. You may wish to try boxplot\n",
      "  warnings.warn(msg, UserWarning)\n"
     ]
    },
    {
     "data": {
      "image/png": "[encoded data removed]",
      "text/plain": [
       "<Figure size 700x700 with 1 Axes>"
      ]
     },
     "metadata": {},
     "output_type": "display_data"
    }
   ],
   "source": [
    "from stat_models import plot_importances\n",
    "df_weights, fig = plot_importances(models_splits_lags=model_lags, lag=0)"
   ]
  },
  {
   "cell_type": "code",
   "execution_count": null,
   "metadata": {},
   "outputs": [],
   "source": []
  }
 ],
 "metadata": {
  "kernelspec": {
   "display_name": "Python 3",
   "language": "python",
   "name": "python3"
  },
  "language_info": {
   "codemirror_mode": {
    "name": "ipython",
    "version": 3
   },
   "file_extension": ".py",
   "mimetype": "text/x-python",
   "name": "python",
   "nbconvert_exporter": "python",
   "pygments_lexer": "ipython3",
   "version": "3.8.5"
  }
 },
 "nbformat": 4,
 "nbformat_minor": 4
}
